{
 "cells": [
  {
   "cell_type": "code",
   "execution_count": 2,
   "id": "baf34dc5-fc93-4839-b647-dc1d588c6f68",
   "metadata": {},
   "outputs": [],
   "source": [
    "import time\n",
    "import json\n",
    "from pprint import pprint\n",
    "\n",
    "import pandas as pd\n",
    "\n",
    "import dask\n",
    "from dask.diagnostics import ProgressBar, Profiler\n",
    "from dask.callbacks import Callback\n",
    "import dask.dataframe as dd\n",
    "from dask.distributed import Client, progress, LocalCluster"
   ]
  },
  {
   "cell_type": "code",
   "execution_count": 7,
   "id": "2a26444b-7ba3-4690-b53b-b3ffd7a91d67",
   "metadata": {},
   "outputs": [],
   "source": [
    "def dirprint(obj, private=False):\n",
    "    keys = dir(obj)\n",
    "    if not private:\n",
    "        keys = filter(lambda x: not x.startswith('__'), keys)\n",
    "    \n",
    "    key = 'NAME'\n",
    "    atype = 'TYPE'\n",
    "    val = 'VALUE'\n",
    "    pattern = '{key:<20}    {atype:<20}   {val}'\n",
    "    print(pattern.format(key=key, atype=atype, val=val))\n",
    "    for key in sorted(keys):\n",
    "        attr = getattr(obj, key)\n",
    "        atype = attr.__class__.__name__[:20]\n",
    "        val = str(attr)[:50]\n",
    "        print(pattern.format(key=key, atype=atype, val=val))\n",
    "\n",
    "def last_response_to_progress(response):\n",
    "    total = sum(response['all'].values())\n",
    "    rem = response['remaining']\n",
    "    complete = sum(rem.values())\n",
    "    progress = float(complete) / total\n",
    "    percent = f'{progress * 100:.2f}%'\n",
    "    tasks_completed = sorted(list(filter(lambda x: rem[x] == 0, rem.keys())))\n",
    "    tasks_remaining = sorted(list(filter(lambda x: rem[x] != 0, rem.keys())))\n",
    "\n",
    "    output = dict(\n",
    "        total=total,\n",
    "        complete=complete,\n",
    "        progress=progress,\n",
    "        percent=percent,\n",
    "        tasks_completed=tasks_completed,\n",
    "        tasks_remaining=tasks_remaining,\n",
    "    )\n",
    "    return output\n",
    "\n",
    "def func(x):\n",
    "    time.sleep(0.1)\n",
    "    return x\n",
    "\n",
    "def get_data(n=100):\n",
    "    d = pd.DataFrame()\n",
    "    d['a'] = ([0] * n) + ([1] * n)\n",
    "    d['b'] = list(range(2 * n))\n",
    "    return d"
   ]
  },
  {
   "cell_type": "code",
   "execution_count": 8,
   "id": "dec0fc61-6746-446a-8c9f-351e5a1b37be",
   "metadata": {},
   "outputs": [
    {
     "name": "stderr",
     "output_type": "stream",
     "text": [
      "/home/ubuntu/.local/lib/python3.7/site-packages/distributed/node.py:182: UserWarning: Port 8787 is already in use.\n",
      "Perhaps you already have a cluster running?\n",
      "Hosting the HTTP server on port 36233 instead\n",
      "  f\"Port {expected} is already in use.\\n\"\n"
     ]
    },
    {
     "data": {
      "application/vnd.jupyter.widget-view+json": {
       "model_id": "156adfc43b404cf0a92c7d3c984309f8",
       "version_major": 2,
       "version_minor": 0
      },
      "text/plain": [
       "VBox()"
      ]
     },
     "metadata": {},
     "output_type": "display_data"
    }
   ],
   "source": [
    "workers = 2\n",
    "cluster = LocalCluster(n_workers=workers)\n",
    "client = Client(cluster)\n",
    "\n",
    "d = get_data(n=200)\n",
    "with dask.annotate(step='read'):\n",
    "    d = dd.from_pandas(d, workers)\n",
    "with dask.annotate(step='wait'):\n",
    "    d = d.applymap(func)\n",
    "with dask.annotate(step='group'):\n",
    "    d = d.groupby('a')\n",
    "with dask.annotate(step='sum'):\n",
    "    d = d.sum()\n",
    "with dask.annotate(step='wait'):\n",
    "    d = d.apply(func, axis=1)\n",
    "\n",
    "d = d.persist()\n",
    "prog = progress(d, notebook=True, multi=True)\n",
    "prog"
   ]
  },
  {
   "cell_type": "code",
   "execution_count": 12,
   "id": "371c1f98-6227-4c0a-a1a6-409789c7fa0c",
   "metadata": {},
   "outputs": [],
   "source": [
    "results = set()\n",
    "for i in range(100):\n",
    "    time.sleep(1)\n",
    "    if hasattr(prog, '_last_response'):\n",
    "        msg = last_response_to_progress(prog._last_response)\n",
    "        results.add(json.dumps(msg))\n",
    "results"
   ]
  },
  {
   "cell_type": "code",
   "execution_count": 5,
   "id": "97204ddd-b32c-44ac-bd2f-0885c92405a1",
   "metadata": {},
   "outputs": [],
   "source": [
    "# !cat /home/ubuntu/.local/lib/python3.7/site-packages/distributed/diagnostics/progressbar.py"
   ]
  },
  {
   "cell_type": "code",
   "execution_count": 6,
   "id": "3aaeacd3-944b-4bae-88c4-25b414f69ec3",
   "metadata": {},
   "outputs": [],
   "source": [
    "# !cat /home/ubuntu/.local/lib/python3.7/site-packages/dask/diagnostics/progress.py"
   ]
  },
  {
   "cell_type": "code",
   "execution_count": null,
   "id": "12856c14-0b3c-4276-ab8f-18452b27b326",
   "metadata": {},
   "outputs": [],
   "source": []
  }
 ],
 "metadata": {
  "kernelspec": {
   "display_name": "Python 3 (ipykernel)",
   "language": "python",
   "name": "python3"
  },
  "language_info": {
   "codemirror_mode": {
    "name": "ipython",
    "version": 3
   },
   "file_extension": ".py",
   "mimetype": "text/x-python",
   "name": "python",
   "nbconvert_exporter": "python",
   "pygments_lexer": "ipython3",
   "version": "3.7.13"
  }
 },
 "nbformat": 4,
 "nbformat_minor": 5
}
